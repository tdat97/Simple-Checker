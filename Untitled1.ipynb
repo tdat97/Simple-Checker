{
 "cells": [
  {
   "cell_type": "code",
   "execution_count": 28,
   "id": "971e0135-1928-499a-906f-2b177d88169c",
   "metadata": {
    "tags": []
   },
   "outputs": [],
   "source": [
    "import os\n",
    "\n",
    "os.environ['TF_CPP_MIN_LOG_LEVEL'] = '3'\n",
    "os.environ[\"CUDA_VISIBLE_DEVICES\"]='0'"
   ]
  },
  {
   "cell_type": "code",
   "execution_count": 29,
   "id": "917903e6-12f3-4d67-9073-ba4abd398b52",
   "metadata": {
    "tags": []
   },
   "outputs": [],
   "source": [
    "from utils.ocr import OcrEngine\n",
    "\n",
    "ocr_engine = OcrEngine(\"./source/date_ocr.h5\")"
   ]
  },
  {
   "cell_type": "code",
   "execution_count": 14,
   "id": "470afe04-c376-4e3c-8907-cb0953cc23ca",
   "metadata": {
    "tags": []
   },
   "outputs": [],
   "source": [
    "from glob import glob\n",
    "\n",
    "img_paths = sorted(glob(\"./temp/test/image/*.png\"))\n",
    "json_paths = sorted(glob(\"./temp/test/json/*.json\"))"
   ]
  },
  {
   "cell_type": "code",
   "execution_count": 19,
   "id": "279b4159-78c4-45a6-9343-681e2043a166",
   "metadata": {
    "tags": []
   },
   "outputs": [
    {
     "data": {
      "text/plain": [
       "True"
      ]
     },
     "execution_count": 19,
     "metadata": {},
     "output_type": "execute_result"
    }
   ],
   "source": [
    "aa = list(map(lambda x:x.split('\\\\')[-1].split('.')[0], img_paths))\n",
    "bb = list(map(lambda x:x.split('\\\\')[-1].split('.')[0], json_paths))\n",
    "aa == bb"
   ]
  },
  {
   "cell_type": "code",
   "execution_count": 20,
   "id": "748fde76-4cd1-46f0-a8bb-24dc6eed7db3",
   "metadata": {
    "tags": []
   },
   "outputs": [],
   "source": [
    "import json\n",
    "import numpy as np\n",
    "\n",
    "polys_list = []\n",
    "for path in json_paths:\n",
    "    with open(path, \"r\", encoding='utf-8') as f:\n",
    "        data = json.load(f)\n",
    "    points = np.float32([shape[\"points\"] for shape in data[\"shapes\"]])\n",
    "    polys_list.append(points)"
   ]
  },
  {
   "cell_type": "code",
   "execution_count": 32,
   "id": "b4e3c5d7-cff1-4f1d-8185-4b4995e0aa4a",
   "metadata": {
    "tags": []
   },
   "outputs": [
    {
     "name": "stderr",
     "output_type": "stream",
     "text": [
      "100%|██████████████████████████████████████████████████████████████████████████████████| 41/41 [00:04<00:00,  8.78it/s]\n"
     ]
    }
   ],
   "source": [
    "from utils import tool\n",
    "import cv2\n",
    "from tqdm import tqdm\n",
    "\n",
    "# imgs = tool.crop_obj_in_bg2(img, polys)\n",
    "clahe = cv2.createCLAHE(clipLimit=2.0, tileGridSize=(8,8))\n",
    "names = list(map(lambda x:x.split('\\\\')[-1].split('.')[0], img_paths))\n",
    "\n",
    "for i, (img_path, polys) in tqdm(enumerate(zip(img_paths, polys_list)), total=len(img_paths)):\n",
    "    img = cv2.imread(img_path, cv2.IMREAD_GRAYSCALE)\n",
    "    imgs = tool.crop_obj_in_bg2(img, polys)\n",
    "    imgs = list(map(clahe.apply, imgs))\n",
    "    texts = ocr_engine(imgs)\n",
    "    data = '\\t'.join(texts)\n",
    "    data = names[i] + '\\t' + data + '\\n'\n",
    "    # with open(f\"./temp/test/result/{i:04d}.txt\", 'w', encoding='utf-8') as f:\n",
    "    #     f.write(data)\n",
    "    with open(f\"./temp/test/result/test.txt\", 'a', encoding='utf-8') as f:\n",
    "        f.write(data)"
   ]
  },
  {
   "cell_type": "code",
   "execution_count": null,
   "id": "e5788016-d0c9-4c93-91f0-b14012eb09a1",
   "metadata": {},
   "outputs": [],
   "source": []
  },
  {
   "cell_type": "code",
   "execution_count": null,
   "id": "4059d8c3-c9ab-4ecb-84d9-8081db72ca27",
   "metadata": {},
   "outputs": [],
   "source": []
  },
  {
   "cell_type": "code",
   "execution_count": 9,
   "id": "369be584-fa1d-4e87-b314-be01ebd230a1",
   "metadata": {
    "tags": []
   },
   "outputs": [],
   "source": [
    "from glob import glob\n",
    "import os\n",
    "\n",
    "paths = sorted(glob(\"./temp/test/image2/*.png\"))\n",
    "for i, path in enumerate(paths):\n",
    "    new_path = f\"./temp/test/image2/2_{i:04d}.png\"\n",
    "    os.rename(path, new_path)\n",
    "\n"
   ]
  },
  {
   "cell_type": "code",
   "execution_count": null,
   "id": "0dc71bf2-3d0e-4909-9184-4c96fa5c825e",
   "metadata": {},
   "outputs": [],
   "source": []
  },
  {
   "cell_type": "code",
   "execution_count": null,
   "id": "18599d56-d291-4be9-91c0-a9d15d156c91",
   "metadata": {},
   "outputs": [],
   "source": []
  },
  {
   "cell_type": "code",
   "execution_count": null,
   "id": "ccccda74-3b09-4d69-b43e-6c59d393ffce",
   "metadata": {},
   "outputs": [],
   "source": []
  }
 ],
 "metadata": {
  "kernelspec": {
   "display_name": "Python 3 (ipykernel)",
   "language": "python",
   "name": "python3"
  },
  "language_info": {
   "codemirror_mode": {
    "name": "ipython",
    "version": 3
   },
   "file_extension": ".py",
   "mimetype": "text/x-python",
   "name": "python",
   "nbconvert_exporter": "python",
   "pygments_lexer": "ipython3",
   "version": "3.8.10"
  }
 },
 "nbformat": 4,
 "nbformat_minor": 5
}
